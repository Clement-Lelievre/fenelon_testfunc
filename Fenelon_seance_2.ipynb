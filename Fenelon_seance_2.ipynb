{
 "cells": [
  {
   "cell_type": "markdown",
   "id": "29c69b5d",
   "metadata": {
    "slideshow": {
     "slide_type": "slide"
    }
   },
   "source": [
    "# BTS SN Fénelon : Python 🐍"
   ]
  },
  {
   "cell_type": "markdown",
   "id": "684da0bf",
   "metadata": {
    "slideshow": {
     "slide_type": "slide"
    }
   },
   "source": [
    "## Quelques rappels de Python"
   ]
  },
  {
   "cell_type": "markdown",
   "id": "8f6c4201",
   "metadata": {
    "slideshow": {
     "slide_type": "subslide"
    }
   },
   "source": [
    "### Types"
   ]
  },
  {
   "cell_type": "markdown",
   "id": "e79c3717",
   "metadata": {
    "slideshow": {
     "slide_type": "fragment"
    }
   },
   "source": [
    "- Numeric (int et float)\n",
    "- text (str)\n",
    "- boolean (bool)\n",
    "- lists\n",
    "- dictionaries"
   ]
  },
  {
   "cell_type": "markdown",
   "id": "67b08b35",
   "metadata": {
    "slideshow": {
     "slide_type": "fragment"
    }
   },
   "source": [
    "demandez-vous: quel est le type d'un nom de rue? d'une marque de vêtements? d'un salaire annuel?"
   ]
  },
  {
   "cell_type": "markdown",
   "id": "1fc732cb",
   "metadata": {
    "slideshow": {
     "slide_type": "fragment"
    }
   },
   "source": [
    "à quoi ressemble une liste? un dictionnaire?"
   ]
  },
  {
   "cell_type": "markdown",
   "id": "51b0bc02",
   "metadata": {
    "slideshow": {
     "slide_type": "subslide"
    }
   },
   "source": [
    "### Variables"
   ]
  },
  {
   "cell_type": "markdown",
   "id": "b9e645f0",
   "metadata": {
    "ExecuteTime": {
     "end_time": "2021-06-02T12:27:36.792469Z",
     "start_time": "2021-06-02T12:27:36.786640Z"
    },
    "slideshow": {
     "slide_type": "fragment"
    }
   },
   "source": [
    "Storing and re-using values in memory:"
   ]
  },
  {
   "cell_type": "markdown",
   "id": "e7f1c137",
   "metadata": {
    "slideshow": {
     "slide_type": "fragment"
    }
   },
   "source": [
    "city = \"Paris\""
   ]
  },
  {
   "cell_type": "markdown",
   "id": "185536e2",
   "metadata": {
    "slideshow": {
     "slide_type": "fragment"
    }
   },
   "source": [
    "que vaut 2*city ?"
   ]
  },
  {
   "cell_type": "markdown",
   "id": "0e2bf8b7",
   "metadata": {
    "slideshow": {
     "slide_type": "subslide"
    }
   },
   "source": [
    "### Fonctions"
   ]
  },
  {
   "cell_type": "markdown",
   "id": "8e3d585e",
   "metadata": {
    "slideshow": {
     "slide_type": "fragment"
    }
   },
   "source": [
    "#### les fonctions built-in : https://docs.python.org/3/library/functions.html"
   ]
  },
  {
   "cell_type": "markdown",
   "id": "74c48bdc",
   "metadata": {
    "slideshow": {
     "slide_type": "fragment"
    }
   },
   "source": [
    "que vaut len(city) ?"
   ]
  },
  {
   "cell_type": "markdown",
   "id": "614f8ed1",
   "metadata": {
    "slideshow": {
     "slide_type": "fragment"
    }
   },
   "source": [
    "#### les fonctions que l'on crée soi-même"
   ]
  },
  {
   "cell_type": "code",
   "execution_count": 1,
   "id": "63aae4b8",
   "metadata": {
    "ExecuteTime": {
     "end_time": "2021-06-10T10:03:46.948552Z",
     "start_time": "2021-06-10T10:03:46.944573Z"
    },
    "slideshow": {
     "slide_type": "fragment"
    }
   },
   "outputs": [],
   "source": [
    "def ma_fonction(arg1, arg2):\n",
    "    return arg1 + arg2"
   ]
  },
  {
   "cell_type": "markdown",
   "id": "e50b6498",
   "metadata": {
    "slideshow": {
     "slide_type": "fragment"
    }
   },
   "source": [
    "que vaut ma_fonction(3,5) ?"
   ]
  },
  {
   "cell_type": "markdown",
   "id": "9ad47e9b",
   "metadata": {
    "slideshow": {
     "slide_type": "subslide"
    }
   },
   "source": [
    "### Objets"
   ]
  },
  {
   "cell_type": "markdown",
   "id": "4c27f017",
   "metadata": {
    "slideshow": {
     "slide_type": "fragment"
    }
   },
   "source": [
    "#### En Python, tout est objet"
   ]
  },
  {
   "cell_type": "markdown",
   "id": "e1445671",
   "metadata": {
    "slideshow": {
     "slide_type": "fragment"
    }
   },
   "source": [
    "#### On peut utiliser des méthodes sur les objets"
   ]
  },
  {
   "cell_type": "markdown",
   "id": "5ee9ad95",
   "metadata": {
    "slideshow": {
     "slide_type": "fragment"
    }
   },
   "source": [
    "exemple : \n",
    "city.capitalize()"
   ]
  },
  {
   "cell_type": "markdown",
   "id": "8a59cd9a",
   "metadata": {
    "slideshow": {
     "slide_type": "fragment"
    }
   },
   "source": [
    "on peut parfois mettre des arguments dans les méthodes;\n",
    "exemple : city.endswith(\"s\")"
   ]
  },
  {
   "cell_type": "markdown",
   "id": "fe176fb0",
   "metadata": {
    "slideshow": {
     "slide_type": "subslide"
    }
   },
   "source": [
    "### flow control"
   ]
  },
  {
   "cell_type": "markdown",
   "id": "ac15c1f5",
   "metadata": {
    "slideshow": {
     "slide_type": "fragment"
    }
   },
   "source": [
    "#### for loops"
   ]
  },
  {
   "cell_type": "markdown",
   "id": "229caadd",
   "metadata": {
    "slideshow": {
     "slide_type": "fragment"
    }
   },
   "source": [
    "quand je connais le nombre d'itérations"
   ]
  },
  {
   "cell_type": "markdown",
   "id": "c142f421",
   "metadata": {
    "slideshow": {
     "slide_type": "fragment"
    }
   },
   "source": [
    "#### while loops"
   ]
  },
  {
   "cell_type": "markdown",
   "id": "8fc9f3bb",
   "metadata": {
    "slideshow": {
     "slide_type": "fragment"
    }
   },
   "source": [
    "quand je ne sais pas à l'avance combien d'itérations mon code nécessitera"
   ]
  },
  {
   "cell_type": "markdown",
   "id": "d0f38017",
   "metadata": {
    "slideshow": {
     "slide_type": "subslide"
    }
   },
   "source": [
    "### gérer les erreurs et les exceptions"
   ]
  },
  {
   "cell_type": "code",
   "execution_count": 2,
   "id": "0e13b613",
   "metadata": {
    "ExecuteTime": {
     "end_time": "2021-06-10T10:03:46.963440Z",
     "start_time": "2021-06-10T10:03:46.954095Z"
    },
    "slideshow": {
     "slide_type": "fragment"
    }
   },
   "outputs": [
    {
     "name": "stdout",
     "output_type": "stream",
     "text": [
      "3.0\n"
     ]
    }
   ],
   "source": [
    "from math import sqrt # module import\n",
    "\n",
    "try:\n",
    "    print(sqrt(9))\n",
    "except Exception as e:\n",
    "    print(f'Found an error : {e}')"
   ]
  },
  {
   "cell_type": "code",
   "execution_count": 3,
   "id": "c1cea5e7",
   "metadata": {
    "ExecuteTime": {
     "end_time": "2021-06-10T10:03:46.975488Z",
     "start_time": "2021-06-10T10:03:46.967429Z"
    },
    "slideshow": {
     "slide_type": "fragment"
    }
   },
   "outputs": [
    {
     "name": "stdout",
     "output_type": "stream",
     "text": [
      "Found an error : math domain error\n"
     ]
    }
   ],
   "source": [
    "try:\n",
    "    print(sqrt(-9))\n",
    "except Exception as e:\n",
    "    print(f'Found an error : {e}')"
   ]
  },
  {
   "cell_type": "markdown",
   "id": "ea78463e",
   "metadata": {
    "slideshow": {
     "slide_type": "slide"
    }
   },
   "source": [
    "## 3️⃣ conseils pour progresser rapidement en Python:\n",
    "\n",
    "- beaucoup pratiquer\n",
    "- se renseigner sur Internet (modules Python -> doc, tendances, communauté etc.)\n",
    "- un excellent livre: https://automatetheboringstuff.com/\n",
    "\n",
    "\n",
    "![](atbswp.png)"
   ]
  },
  {
   "cell_type": "markdown",
   "id": "05ee85f3",
   "metadata": {
    "slideshow": {
     "slide_type": "slide"
    }
   },
   "source": [
    "# Notre première fonction 🧮"
   ]
  },
  {
   "cell_type": "markdown",
   "id": "a0d222b2",
   "metadata": {
    "slideshow": {
     "slide_type": "fragment"
    }
   },
   "source": [
    "## Coder une fonction qui renvoie votre prénom"
   ]
  },
  {
   "cell_type": "code",
   "execution_count": 4,
   "id": "5e3e15ad",
   "metadata": {
    "ExecuteTime": {
     "end_time": "2021-06-10T10:03:46.982487Z",
     "start_time": "2021-06-10T10:03:46.979236Z"
    },
    "slideshow": {
     "slide_type": "fragment"
    }
   },
   "outputs": [],
   "source": [
    "def myfunc(name):\n",
    "    return name"
   ]
  },
  {
   "cell_type": "code",
   "execution_count": 5,
   "id": "5f02f811",
   "metadata": {
    "ExecuteTime": {
     "end_time": "2021-06-10T10:03:47.008410Z",
     "start_time": "2021-06-10T10:03:46.986790Z"
    },
    "slideshow": {
     "slide_type": "fragment"
    }
   },
   "outputs": [
    {
     "data": {
      "text/plain": [
       "5"
      ]
     },
     "execution_count": 5,
     "metadata": {},
     "output_type": "execute_result"
    }
   ],
   "source": [
    "len(myfunc('boris'))"
   ]
  },
  {
   "cell_type": "code",
   "execution_count": 1,
   "id": "e108f0d3",
   "metadata": {
    "ExecuteTime": {
     "end_time": "2021-06-10T18:12:00.759050Z",
     "start_time": "2021-06-10T18:12:00.754768Z"
    },
    "slideshow": {
     "slide_type": "subslide"
    }
   },
   "outputs": [
    {
     "name": "stdout",
     "output_type": "stream",
     "text": [
      "je mappelle toto\n"
     ]
    }
   ],
   "source": [
    "def name(name):\n",
    "    print('je mappelle '+name)\n",
    "    \n",
    "name('toto')"
   ]
  },
  {
   "cell_type": "code",
   "execution_count": 2,
   "id": "40236755",
   "metadata": {
    "ExecuteTime": {
     "end_time": "2021-06-10T18:12:19.479130Z",
     "start_time": "2021-06-10T18:12:14.895428Z"
    },
    "slideshow": {
     "slide_type": "fragment"
    }
   },
   "outputs": [
    {
     "name": "stdout",
     "output_type": "stream",
     "text": [
      "prénom? babar\n",
      "babar\n"
     ]
    }
   ],
   "source": [
    "nom = input('prénom? ')\n",
    "print(nom)"
   ]
  },
  {
   "cell_type": "markdown",
   "id": "3f5bfcec",
   "metadata": {
    "slideshow": {
     "slide_type": "subslide"
    }
   },
   "source": [
    "# Slicing"
   ]
  },
  {
   "cell_type": "code",
   "execution_count": 8,
   "id": "8d9b635c",
   "metadata": {
    "ExecuteTime": {
     "end_time": "2021-06-10T10:03:49.617472Z",
     "start_time": "2021-06-10T10:03:49.601370Z"
    },
    "slideshow": {
     "slide_type": "fragment"
    }
   },
   "outputs": [],
   "source": [
    "nom = 'azerty'"
   ]
  },
  {
   "cell_type": "code",
   "execution_count": 9,
   "id": "6ff3feb9",
   "metadata": {
    "ExecuteTime": {
     "end_time": "2021-06-10T10:03:49.678942Z",
     "start_time": "2021-06-10T10:03:49.623932Z"
    },
    "slideshow": {
     "slide_type": "fragment"
    }
   },
   "outputs": [
    {
     "data": {
      "text/plain": [
       "'aet'"
      ]
     },
     "execution_count": 9,
     "metadata": {},
     "output_type": "execute_result"
    }
   ],
   "source": [
    "nom[::2]"
   ]
  },
  {
   "cell_type": "code",
   "execution_count": 10,
   "id": "cea1341c",
   "metadata": {
    "ExecuteTime": {
     "end_time": "2021-06-10T10:03:49.694958Z",
     "start_time": "2021-06-10T10:03:49.684035Z"
    },
    "slideshow": {
     "slide_type": "fragment"
    }
   },
   "outputs": [
    {
     "data": {
      "text/plain": [
       "'alice'"
      ]
     },
     "execution_count": 10,
     "metadata": {},
     "output_type": "execute_result"
    }
   ],
   "source": [
    "'ecila'[::-1]"
   ]
  },
  {
   "cell_type": "code",
   "execution_count": 11,
   "id": "154f93dd",
   "metadata": {
    "ExecuteTime": {
     "end_time": "2021-06-10T10:03:49.706688Z",
     "start_time": "2021-06-10T10:03:49.699932Z"
    },
    "slideshow": {
     "slide_type": "fragment"
    }
   },
   "outputs": [
    {
     "data": {
      "text/plain": [
       "'fenelon'"
      ]
     },
     "execution_count": 11,
     "metadata": {},
     "output_type": "execute_result"
    }
   ],
   "source": [
    "'f1e6n2e5l7o5n1'[::2]"
   ]
  },
  {
   "cell_type": "markdown",
   "id": "a0936838",
   "metadata": {
    "slideshow": {
     "slide_type": "subslide"
    }
   },
   "source": [
    "## Comment afficher 'fenelon' sans slicing?"
   ]
  },
  {
   "cell_type": "code",
   "execution_count": 12,
   "id": "ffe9d59b",
   "metadata": {
    "ExecuteTime": {
     "end_time": "2021-06-10T10:03:49.716099Z",
     "start_time": "2021-06-10T10:03:49.712329Z"
    },
    "slideshow": {
     "slide_type": "fragment"
    }
   },
   "outputs": [],
   "source": [
    "from time import sleep\n",
    "import re"
   ]
  },
  {
   "cell_type": "code",
   "execution_count": 13,
   "id": "5312c321",
   "metadata": {
    "ExecuteTime": {
     "end_time": "2021-06-10T10:03:49.740538Z",
     "start_time": "2021-06-10T10:03:49.719867Z"
    },
    "slideshow": {
     "slide_type": "fragment"
    }
   },
   "outputs": [
    {
     "data": {
      "text/plain": [
       "'fenelon'"
      ]
     },
     "execution_count": 13,
     "metadata": {},
     "output_type": "execute_result"
    }
   ],
   "source": [
    "a = 'f51e6n2e5l7o5n1'\n",
    "\n",
    "new_string = '1'.join([e for e in a if not e.isdigit()])\n",
    "#new_string\n",
    "\n",
    "pattern = r'[0-9]'\n",
    "c = re.sub(pattern,'',a)\n",
    "#c\n",
    "\n",
    "solution = ''\n",
    "for lettre in a:\n",
    "    if not lettre.isdigit():\n",
    "        solution += lettre\n",
    "solution\n"
   ]
  },
  {
   "cell_type": "markdown",
   "id": "27b190eb",
   "metadata": {
    "slideshow": {
     "slide_type": "subslide"
    }
   },
   "source": [
    "## Comment retourner le 1er index où un chiffre est trouvé dans la variable 'name'?"
   ]
  },
  {
   "cell_type": "code",
   "execution_count": 14,
   "id": "ef9870a3",
   "metadata": {
    "ExecuteTime": {
     "end_time": "2021-06-10T10:03:49.748800Z",
     "start_time": "2021-06-10T10:03:49.743229Z"
    },
    "slideshow": {
     "slide_type": "fragment"
    }
   },
   "outputs": [
    {
     "name": "stdout",
     "output_type": "stream",
     "text": [
      "2\n"
     ]
    }
   ],
   "source": [
    "name = 'bo0r1is5'\n",
    "for lettre in name:\n",
    "    if lettre.isdigit():\n",
    "        print(name.index(lettre))\n",
    "        break    "
   ]
  },
  {
   "cell_type": "markdown",
   "id": "b70a9de7",
   "metadata": {
    "slideshow": {
     "slide_type": "subslide"
    }
   },
   "source": [
    "## boucles while\n"
   ]
  },
  {
   "cell_type": "markdown",
   "id": "67c64297",
   "metadata": {
    "slideshow": {
     "slide_type": "fragment"
    }
   },
   "source": [
    "Imprimer les entiers pairs jusqu'à ce que la somme des digits dépasse 50"
   ]
  },
  {
   "cell_type": "markdown",
   "id": "6f99f7cb",
   "metadata": {
    "slideshow": {
     "slide_type": "fragment"
    }
   },
   "source": [
    "'somme des digits' => exemple : 343 => la somme des digits vaut 10 (3+4+3)"
   ]
  },
  {
   "cell_type": "markdown",
   "id": "0b9b184d",
   "metadata": {
    "slideshow": {
     "slide_type": "fragment"
    }
   },
   "source": [
    "Pour y arriver il faut savoir:\n",
    "- dire si un entier est pair ou pas\n",
    "- calculer la somme de ses digits\n",
    "- utiliser une condition pour arrêter la boucle while (soit un break, soit une condition après le while)\n",
    "\n",
    "\n",
    "\n",
    "\n",
    "\n",
    "\n",
    "\n"
   ]
  },
  {
   "cell_type": "code",
   "execution_count": 15,
   "id": "06066880",
   "metadata": {
    "ExecuteTime": {
     "end_time": "2021-06-10T10:03:49.766025Z",
     "start_time": "2021-06-10T10:03:49.758999Z"
    },
    "slideshow": {
     "slide_type": "subslide"
    }
   },
   "outputs": [],
   "source": [
    "def sum_digits_smart(nombre):\n",
    "    return sum([int(char) for char in list(str(nombre))])\n",
    "    \n",
    "def sum_digits(nombre):\n",
    "    '''cette fonction calcule la somme des digits du nombre passé en argument'''\n",
    "    # etape 1: convertir en str le nombre\n",
    "    nombre = str(nombre)\n",
    "    # etape 2: séparer les caractères\n",
    "    l = list(nombre)\n",
    "    # etape 3: convertir en int chaque caractère\n",
    "    new_list = []\n",
    "    for item in l:\n",
    "        new_list.append(int(item))\n",
    "    # etape 4: sommer les digits\n",
    "    return sum(new_list)\n",
    "    \n",
    "def est_pair(nombre):\n",
    "    return nombre % 2 == 0"
   ]
  },
  {
   "cell_type": "code",
   "execution_count": 16,
   "id": "685c29df",
   "metadata": {
    "ExecuteTime": {
     "end_time": "2021-06-10T10:03:50.684838Z",
     "start_time": "2021-06-10T10:03:49.771198Z"
    },
    "slideshow": {
     "slide_type": "subslide"
    }
   },
   "outputs": [
    {
     "name": "stdout",
     "output_type": "stream",
     "text": [
      "699998\n"
     ]
    }
   ],
   "source": [
    "toto = 0\n",
    "while sum_digits_smart(toto) < 50:\n",
    "    toto += 2\n",
    "print(toto)"
   ]
  },
  {
   "cell_type": "markdown",
   "id": "2211f282",
   "metadata": {
    "slideshow": {
     "slide_type": "subslide"
    }
   },
   "source": [
    "## autres fonctions: voir les unit tests et [ce repo](https://github.com/Clement-Lelievre/fenelon_testfunc) Github -> fichiers à télécharger"
   ]
  },
  {
   "cell_type": "markdown",
   "id": "2e21dd7b",
   "metadata": {
    "slideshow": {
     "slide_type": "fragment"
    }
   },
   "source": [
    "Vous allez coder des fonctions et avoir la possibilité de les tester ✅"
   ]
  },
  {
   "cell_type": "markdown",
   "id": "f906ae8e",
   "metadata": {
    "slideshow": {
     "slide_type": "subslide"
    }
   },
   "source": [
    "# Codons notre premier jeu 🎲"
   ]
  },
  {
   "cell_type": "markdown",
   "id": "73dbe3a8",
   "metadata": {
    "slideshow": {
     "slide_type": "fragment"
    }
   },
   "source": [
    "L'ordinateur va générer un nombre aléatoirement entre 1 et 10. Le joueur devra le deviner en un minimum de tentatives. A chaque erreur, l'ordinateur donnera un indice: 'trop haut' ou 'trop bas'. \n",
    "\n",
    "On va avoir besoin notamment de :\n",
    "- input() pour demander à l'utilisateur de saisir son chiffre\n",
    "- module random pour utiliser la fonction randint (nombre aléatoire)"
   ]
  },
  {
   "cell_type": "code",
   "execution_count": 3,
   "id": "d61360cc",
   "metadata": {
    "ExecuteTime": {
     "end_time": "2021-06-10T18:20:43.636935Z",
     "start_time": "2021-06-10T18:20:36.390367Z"
    },
    "slideshow": {
     "slide_type": "subslide"
    }
   },
   "outputs": [
    {
     "name": "stdout",
     "output_type": "stream",
     "text": [
      "Ton chiffre?\n",
      "5\n",
      "Trop haut\n",
      "Ton chiffre?\n",
      "3\n",
      "Bravo! Vous avez mis 2 coup(s).\n",
      "Nouvelle partie? (y/n)n\n",
      "Bye bye!\n"
     ]
    }
   ],
   "source": [
    "from random import randint\n",
    "\n",
    "number = randint(1,10) # on génère le nombre aléatoire\n",
    "counter = 0 #compte les tentatives\n",
    "\n",
    "while True:\n",
    "    guess = int(input('Ton chiffre?\\n'))\n",
    "    if guess == number:\n",
    "        print('Bravo! Vous avez mis ' + str(counter+1)+' coup(s).')\n",
    "        if input('Nouvelle partie? (y/n)') == 'y':\n",
    "            number = randint(1,10) # on génère le nombre aléatoire\n",
    "            counter = 0 #compte les tentatives\n",
    "            print('\\n'*2)\n",
    "        else:\n",
    "            print('Bye bye!')\n",
    "            break\n",
    "    else:\n",
    "        if guess > number:\n",
    "            print('Trop haut')\n",
    "        else:\n",
    "            print('Trop bas')\n",
    "        counter += 1"
   ]
  },
  {
   "cell_type": "markdown",
   "id": "dead62f8",
   "metadata": {
    "slideshow": {
     "slide_type": "slide"
    }
   },
   "source": [
    "# Un challenge pour comprendre la portée des variables et l'indentation\n",
    "## règle LEGB : variable locale, englobante, globale, ou dans le module \"built-ins\" "
   ]
  },
  {
   "cell_type": "markdown",
   "id": "3c967a85",
   "metadata": {
    "slideshow": {
     "slide_type": "subslide"
    }
   },
   "source": [
    "Python utilise la \"portée lexicale\" => la portée d'une variable est définie en fonction de l'endroit où se trouve la variable dans le code, du plus proche au plus lointain"
   ]
  },
  {
   "cell_type": "markdown",
   "id": "1e1c9caf",
   "metadata": {
    "slideshow": {
     "slide_type": "fragment"
    }
   },
   "source": [
    "Que vaut l'évaluation du code suivant ❓"
   ]
  },
  {
   "cell_type": "code",
   "execution_count": 25,
   "id": "b327b1a3",
   "metadata": {
    "ExecuteTime": {
     "end_time": "2021-06-10T10:33:32.027966Z",
     "start_time": "2021-06-10T10:33:32.009172Z"
    },
    "slideshow": {
     "slide_type": "fragment"
    }
   },
   "outputs": [
    {
     "name": "stdout",
     "output_type": "stream",
     "text": [
      "1 16 3\n"
     ]
    }
   ],
   "source": [
    "a,b,c = 1,1,1\n",
    "\n",
    "def g():\n",
    "    b,c = 5,6\n",
    "    b = b + 11\n",
    "    def h():\n",
    "        c = 3\n",
    "        print(a,b,c)\n",
    "\n",
    "    h()\n",
    "    \n",
    "g()    "
   ]
  },
  {
   "cell_type": "markdown",
   "id": "299e29ea",
   "metadata": {
    "slideshow": {
     "slide_type": "subslide"
    }
   },
   "source": [
    "Que vaut l'évaluation du code suivant ❓"
   ]
  },
  {
   "cell_type": "code",
   "execution_count": 26,
   "id": "10ca5940",
   "metadata": {
    "ExecuteTime": {
     "end_time": "2021-06-10T10:36:15.765468Z",
     "start_time": "2021-06-10T10:36:15.748577Z"
    },
    "slideshow": {
     "slide_type": "subslide"
    }
   },
   "outputs": [
    {
     "name": "stdout",
     "output_type": "stream",
     "text": [
      "280\n"
     ]
    }
   ],
   "source": [
    "var = 7\n",
    "def f():\n",
    "    var = 280\n",
    "    def g():\n",
    "        return var\n",
    "    return g()\n",
    "print(f())"
   ]
  },
  {
   "cell_type": "markdown",
   "id": "37d68272",
   "metadata": {
    "slideshow": {
     "slide_type": "slide"
    }
   },
   "source": [
    "## coder la factorielle (exemple de RECURSIVITE)"
   ]
  },
  {
   "cell_type": "code",
   "execution_count": 31,
   "id": "cdd31501",
   "metadata": {
    "ExecuteTime": {
     "end_time": "2021-06-10T10:54:51.660715Z",
     "start_time": "2021-06-10T10:54:51.654343Z"
    },
    "slideshow": {
     "slide_type": "subslide"
    }
   },
   "outputs": [],
   "source": [
    "def factorielle(n):\n",
    "    result = 1\n",
    "    for i in range(1,n+1):\n",
    "        result *= i\n",
    "    return result"
   ]
  },
  {
   "cell_type": "code",
   "execution_count": 34,
   "id": "c4ea9152",
   "metadata": {
    "ExecuteTime": {
     "end_time": "2021-06-10T10:56:35.812833Z",
     "start_time": "2021-06-10T10:56:35.803789Z"
    },
    "slideshow": {
     "slide_type": "fragment"
    }
   },
   "outputs": [],
   "source": [
    "def factorielle_recursion(n):\n",
    "    if n == 1:\n",
    "        return 1\n",
    "    return factorielle_recursion(n-1)*n"
   ]
  },
  {
   "cell_type": "code",
   "execution_count": 35,
   "id": "eb3b6caf",
   "metadata": {
    "ExecuteTime": {
     "end_time": "2021-06-10T10:56:44.705132Z",
     "start_time": "2021-06-10T10:56:44.692035Z"
    },
    "slideshow": {
     "slide_type": "fragment"
    }
   },
   "outputs": [
    {
     "data": {
      "text/plain": [
       "3628800"
      ]
     },
     "execution_count": 35,
     "metadata": {},
     "output_type": "execute_result"
    }
   ],
   "source": [
    "factorielle_recursion(10)"
   ]
  },
  {
   "cell_type": "markdown",
   "id": "9fd0779b",
   "metadata": {
    "slideshow": {
     "slide_type": "slide"
    }
   },
   "source": [
    "## Un projet de groupe codé en Python: bot joueur d'échecs ♚ 🤖"
   ]
  },
  {
   "cell_type": "markdown",
   "id": "32f09cda",
   "metadata": {
    "slideshow": {
     "slide_type": "fragment"
    }
   },
   "source": [
    "###  https://www.youtube.com/watch?v=nIjSTROF7PY  🚀🚀🚀"
   ]
  },
  {
   "cell_type": "markdown",
   "id": "9e91565d",
   "metadata": {
    "slideshow": {
     "slide_type": "fragment"
    }
   },
   "source": [
    "## Homework pour la prochaine séance:\n",
    "\n",
    "### 👉 revoir les fonctions, refaire les exercices\n",
    "\n",
    "### 👉 coder la suite de Fibonnacci et trouver le 1000ème terme\n",
    "\n",
    "### 👉 réfléchir au plan pour coder le bot (ses actions)\n",
    "\n",
    "### 👉 se renseigner sur le module Selenium, l'installer sur sa machine\n",
    "\n",
    "### 👉 rédiger un programme qui utilise Selenium pour ouvrir un navigateur et va sur https://www.python.org/"
   ]
  }
 ],
 "metadata": {
  "celltoolbar": "Diaporama",
  "kernelspec": {
   "display_name": "Python 3",
   "language": "python",
   "name": "python3"
  },
  "language_info": {
   "codemirror_mode": {
    "name": "ipython",
    "version": 3
   },
   "file_extension": ".py",
   "mimetype": "text/x-python",
   "name": "python",
   "nbconvert_exporter": "python",
   "pygments_lexer": "ipython3",
   "version": "3.8.6"
  },
  "toc": {
   "base_numbering": 1,
   "nav_menu": {},
   "number_sections": true,
   "sideBar": true,
   "skip_h1_title": false,
   "title_cell": "Table of Contents",
   "title_sidebar": "Contents",
   "toc_cell": false,
   "toc_position": {},
   "toc_section_display": true,
   "toc_window_display": false
  },
  "varInspector": {
   "cols": {
    "lenName": 16,
    "lenType": 16,
    "lenVar": 40
   },
   "kernels_config": {
    "python": {
     "delete_cmd_postfix": "",
     "delete_cmd_prefix": "del ",
     "library": "var_list.py",
     "varRefreshCmd": "print(var_dic_list())"
    },
    "r": {
     "delete_cmd_postfix": ") ",
     "delete_cmd_prefix": "rm(",
     "library": "var_list.r",
     "varRefreshCmd": "cat(var_dic_list()) "
    }
   },
   "position": {
    "height": "330.85px",
    "left": "1158.6px",
    "right": "20px",
    "top": "120px",
    "width": "357.4px"
   },
   "types_to_exclude": [
    "module",
    "function",
    "builtin_function_or_method",
    "instance",
    "_Feature"
   ],
   "window_display": false
  }
 },
 "nbformat": 4,
 "nbformat_minor": 5
}
