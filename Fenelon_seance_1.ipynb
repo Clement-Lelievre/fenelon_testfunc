{
 "cells": [
  {
   "cell_type": "markdown",
   "id": "29c69b5d",
   "metadata": {
    "slideshow": {
     "slide_type": "slide"
    }
   },
   "source": [
    "# BTS SN Fénelon : Python 🐍"
   ]
  },
  {
   "cell_type": "markdown",
   "id": "684da0bf",
   "metadata": {
    "slideshow": {
     "slide_type": "slide"
    }
   },
   "source": [
    "## Quelques rappels de Python"
   ]
  },
  {
   "cell_type": "markdown",
   "id": "8f6c4201",
   "metadata": {
    "slideshow": {
     "slide_type": "subslide"
    }
   },
   "source": [
    "### Types"
   ]
  },
  {
   "cell_type": "markdown",
   "id": "e79c3717",
   "metadata": {
    "slideshow": {
     "slide_type": "fragment"
    }
   },
   "source": [
    "- Numeric (int et float)\n",
    "- text (str)\n",
    "- boolean (bool)\n",
    "- lists\n",
    "- dictionaries"
   ]
  },
  {
   "cell_type": "markdown",
   "id": "67b08b35",
   "metadata": {
    "slideshow": {
     "slide_type": "fragment"
    }
   },
   "source": [
    "demandez-vous: quel est le type d'un nom de rue? d'une marque de vêtements? d'un salaire annuel?"
   ]
  },
  {
   "cell_type": "markdown",
   "id": "1fc732cb",
   "metadata": {
    "slideshow": {
     "slide_type": "fragment"
    }
   },
   "source": [
    "à quoi ressemble une liste? un dictionnaire?"
   ]
  },
  {
   "cell_type": "markdown",
   "id": "51b0bc02",
   "metadata": {
    "slideshow": {
     "slide_type": "subslide"
    }
   },
   "source": [
    "### Variables"
   ]
  },
  {
   "cell_type": "markdown",
   "id": "b9e645f0",
   "metadata": {
    "ExecuteTime": {
     "end_time": "2021-06-02T12:27:36.792469Z",
     "start_time": "2021-06-02T12:27:36.786640Z"
    },
    "slideshow": {
     "slide_type": "fragment"
    }
   },
   "source": [
    "Storing and re-using values in memory:"
   ]
  },
  {
   "cell_type": "markdown",
   "id": "e7f1c137",
   "metadata": {
    "slideshow": {
     "slide_type": "fragment"
    }
   },
   "source": [
    "city = \"Paris\""
   ]
  },
  {
   "cell_type": "markdown",
   "id": "185536e2",
   "metadata": {
    "slideshow": {
     "slide_type": "fragment"
    }
   },
   "source": [
    "que vaut 2*city ?"
   ]
  },
  {
   "cell_type": "markdown",
   "id": "0e2bf8b7",
   "metadata": {
    "slideshow": {
     "slide_type": "subslide"
    }
   },
   "source": [
    "### Fonctions"
   ]
  },
  {
   "cell_type": "markdown",
   "id": "8e3d585e",
   "metadata": {
    "slideshow": {
     "slide_type": "fragment"
    }
   },
   "source": [
    "#### les fonctions built-in : https://docs.python.org/3/library/functions.html"
   ]
  },
  {
   "cell_type": "markdown",
   "id": "74c48bdc",
   "metadata": {
    "slideshow": {
     "slide_type": "fragment"
    }
   },
   "source": [
    "que vaut len(city) ?"
   ]
  },
  {
   "cell_type": "markdown",
   "id": "614f8ed1",
   "metadata": {
    "slideshow": {
     "slide_type": "fragment"
    }
   },
   "source": [
    "#### les fonctions que l'on crée soi-même"
   ]
  },
  {
   "cell_type": "code",
   "execution_count": 2,
   "id": "63aae4b8",
   "metadata": {
    "ExecuteTime": {
     "end_time": "2021-06-02T12:30:38.390789Z",
     "start_time": "2021-06-02T12:30:38.387371Z"
    },
    "slideshow": {
     "slide_type": "fragment"
    }
   },
   "outputs": [],
   "source": [
    "def ma_fonction(arg1, arg2):\n",
    "    return arg1 + arg2"
   ]
  },
  {
   "cell_type": "markdown",
   "id": "e50b6498",
   "metadata": {
    "slideshow": {
     "slide_type": "fragment"
    }
   },
   "source": [
    "que vaut ma_fonction(3,5) ?"
   ]
  },
  {
   "cell_type": "markdown",
   "id": "9ad47e9b",
   "metadata": {
    "slideshow": {
     "slide_type": "subslide"
    }
   },
   "source": [
    "### Objets"
   ]
  },
  {
   "cell_type": "markdown",
   "id": "4c27f017",
   "metadata": {
    "slideshow": {
     "slide_type": "fragment"
    }
   },
   "source": [
    "#### En Python, tout est objet"
   ]
  },
  {
   "cell_type": "markdown",
   "id": "e1445671",
   "metadata": {
    "slideshow": {
     "slide_type": "fragment"
    }
   },
   "source": [
    "#### On peut utiliser des méthodes sur les objets"
   ]
  },
  {
   "cell_type": "markdown",
   "id": "5ee9ad95",
   "metadata": {
    "slideshow": {
     "slide_type": "fragment"
    }
   },
   "source": [
    "exemple : \n",
    "city.capitalize()"
   ]
  },
  {
   "cell_type": "markdown",
   "id": "8a59cd9a",
   "metadata": {
    "slideshow": {
     "slide_type": "fragment"
    }
   },
   "source": [
    "on peut parfois mettre des arguments dans les méthodes;\n",
    "exemple : city.endswith(\"s\")"
   ]
  },
  {
   "cell_type": "markdown",
   "id": "fe176fb0",
   "metadata": {
    "slideshow": {
     "slide_type": "subslide"
    }
   },
   "source": [
    "### flow control"
   ]
  },
  {
   "cell_type": "markdown",
   "id": "ac15c1f5",
   "metadata": {
    "slideshow": {
     "slide_type": "fragment"
    }
   },
   "source": [
    "#### for loops"
   ]
  },
  {
   "cell_type": "code",
   "execution_count": 4,
   "id": "18a84956",
   "metadata": {
    "ExecuteTime": {
     "end_time": "2021-06-10T07:26:57.693332Z",
     "start_time": "2021-06-10T07:26:57.648842Z"
    }
   },
   "outputs": [
    {
     "name": "stdout",
     "output_type": "stream",
     "text": [
      "0\n",
      "0\n",
      "0\n",
      "1\n",
      "0\n",
      "0\n",
      "1\n",
      "0\n",
      "1\n",
      "2\n",
      "0\n",
      "0\n",
      "1\n",
      "0\n",
      "1\n",
      "2\n",
      "0\n",
      "1\n",
      "2\n",
      "3\n",
      "0\n",
      "0\n",
      "1\n",
      "0\n",
      "1\n",
      "2\n",
      "0\n",
      "1\n",
      "2\n",
      "3\n",
      "0\n",
      "1\n",
      "2\n",
      "3\n",
      "4\n",
      "0\n",
      "0\n",
      "1\n",
      "0\n",
      "1\n",
      "2\n",
      "0\n",
      "1\n",
      "2\n",
      "3\n",
      "0\n",
      "1\n",
      "2\n",
      "3\n",
      "4\n",
      "0\n",
      "1\n",
      "2\n",
      "3\n",
      "4\n",
      "5\n",
      "0\n",
      "0\n",
      "1\n",
      "0\n",
      "1\n",
      "2\n",
      "0\n",
      "1\n",
      "2\n",
      "3\n",
      "0\n",
      "1\n",
      "2\n",
      "3\n",
      "4\n",
      "0\n",
      "1\n",
      "2\n",
      "3\n",
      "4\n",
      "5\n",
      "0\n",
      "1\n",
      "2\n",
      "3\n",
      "4\n",
      "5\n",
      "6\n",
      "0\n",
      "0\n",
      "1\n",
      "0\n",
      "1\n",
      "2\n",
      "0\n",
      "1\n",
      "2\n",
      "3\n",
      "0\n",
      "1\n",
      "2\n",
      "3\n",
      "4\n",
      "0\n",
      "1\n",
      "2\n",
      "3\n",
      "4\n",
      "5\n",
      "0\n",
      "1\n",
      "2\n",
      "3\n",
      "4\n",
      "5\n",
      "6\n",
      "0\n",
      "1\n",
      "2\n",
      "3\n",
      "4\n",
      "5\n",
      "6\n",
      "7\n",
      "0\n",
      "0\n",
      "1\n",
      "0\n",
      "1\n",
      "2\n",
      "0\n",
      "1\n",
      "2\n",
      "3\n",
      "0\n",
      "1\n",
      "2\n",
      "3\n",
      "4\n",
      "0\n",
      "1\n",
      "2\n",
      "3\n",
      "4\n",
      "5\n",
      "0\n",
      "1\n",
      "2\n",
      "3\n",
      "4\n",
      "5\n",
      "6\n",
      "0\n",
      "1\n",
      "2\n",
      "3\n",
      "4\n",
      "5\n",
      "6\n",
      "7\n",
      "0\n",
      "1\n",
      "2\n",
      "3\n",
      "4\n",
      "5\n",
      "6\n",
      "7\n",
      "8\n"
     ]
    }
   ],
   "source": [
    "for i in range(11):\n",
    "    for j in range(i):\n",
    "        for g in range(j):\n",
    "            print(g)"
   ]
  },
  {
   "cell_type": "markdown",
   "id": "229caadd",
   "metadata": {
    "slideshow": {
     "slide_type": "fragment"
    }
   },
   "source": [
    "quand je connais le nombre d'itérations"
   ]
  },
  {
   "cell_type": "markdown",
   "id": "c142f421",
   "metadata": {
    "slideshow": {
     "slide_type": "fragment"
    }
   },
   "source": [
    "#### while loops"
   ]
  },
  {
   "cell_type": "markdown",
   "id": "8fc9f3bb",
   "metadata": {
    "slideshow": {
     "slide_type": "fragment"
    }
   },
   "source": [
    "quand je ne sais pas à l'avance combien d'itérations mon code nécessitera"
   ]
  },
  {
   "cell_type": "code",
   "execution_count": null,
   "id": "b76250eb",
   "metadata": {},
   "outputs": [],
   "source": [
    "while True:\n",
    "    print(1)"
   ]
  },
  {
   "cell_type": "markdown",
   "id": "d0f38017",
   "metadata": {
    "slideshow": {
     "slide_type": "subslide"
    }
   },
   "source": [
    "### gérer les erreurs et les exceptions"
   ]
  },
  {
   "cell_type": "code",
   "execution_count": 3,
   "id": "0e13b613",
   "metadata": {
    "ExecuteTime": {
     "end_time": "2021-06-02T12:44:27.971740Z",
     "start_time": "2021-06-02T12:44:27.967664Z"
    },
    "slideshow": {
     "slide_type": "fragment"
    }
   },
   "outputs": [
    {
     "name": "stdout",
     "output_type": "stream",
     "text": [
      "3.0\n"
     ]
    }
   ],
   "source": [
    "from math import sqrt # module import\n",
    "\n",
    "try:\n",
    "    print(sqrt(9))\n",
    "except Exception as e:\n",
    "    print(f'Found an error : {e}')"
   ]
  },
  {
   "cell_type": "code",
   "execution_count": 4,
   "id": "c1cea5e7",
   "metadata": {
    "ExecuteTime": {
     "end_time": "2021-06-02T12:44:40.507986Z",
     "start_time": "2021-06-02T12:44:40.496310Z"
    },
    "slideshow": {
     "slide_type": "fragment"
    }
   },
   "outputs": [
    {
     "name": "stdout",
     "output_type": "stream",
     "text": [
      "Found an error : math domain error\n"
     ]
    }
   ],
   "source": [
    "try:\n",
    "    print(sqrt(-9))\n",
    "except Exception as e:\n",
    "    print(f'Found an error : {e}')"
   ]
  },
  {
   "cell_type": "markdown",
   "id": "d328be25",
   "metadata": {
    "slideshow": {
     "slide_type": "slide"
    }
   },
   "source": [
    "## Echauffement: quelques katas 💪"
   ]
  },
  {
   "cell_type": "markdown",
   "id": "5bf632e6",
   "metadata": {
    "ExecuteTime": {
     "end_time": "2021-06-02T14:32:44.078762Z",
     "start_time": "2021-06-02T14:32:44.075924Z"
    },
    "slideshow": {
     "slide_type": "fragment"
    }
   },
   "source": [
    "### crackeur de mot de passe (à runner dans ZSH)"
   ]
  },
  {
   "cell_type": "markdown",
   "id": "6042ba9b",
   "metadata": {
    "slideshow": {
     "slide_type": "fragment"
    }
   },
   "source": [
    "### https://www.codewars.com/kata/574b1916a3ebd6e4fa0012e7 (strings et fonctions)\n",
    "\n",
    "### https://www.codewars.com/kata/5933a1f8552bc2750a0000ed (calculer nombres pairs)\n",
    "\n",
    "### https://www.codewars.com/kata/588417e576933b0ec9000045 (calcul théâtre)\n",
    "\n",
    "### https://www.codewars.com/kata/56ff6a70e1a63ccdfa0001b1 (manipulation de listes)\n",
    "\n",
    "### https://www.codewars.com/kata/589433358420bf25950000b6 (problème d'échecs)"
   ]
  },
  {
   "cell_type": "markdown",
   "id": "ea78463e",
   "metadata": {
    "slideshow": {
     "slide_type": "slide"
    }
   },
   "source": [
    "## 3️⃣ conseils pour progresser rapidement en Python:\n",
    "\n",
    "- beaucoup pratiquer\n",
    "- se renseigner sur Internet (modules Python -> doc, tendances, communauté etc.)\n",
    "- un excellent livre: https://automatetheboringstuff.com/\n",
    "\n",
    "\n",
    "![](atbswp.png)"
   ]
  },
  {
   "cell_type": "markdown",
   "id": "9fd0779b",
   "metadata": {
    "slideshow": {
     "slide_type": "slide"
    }
   },
   "source": [
    "## Un projet de groupe codé en Python: bot joueur d'échecs ♚ 🤖"
   ]
  },
  {
   "cell_type": "markdown",
   "id": "32f09cda",
   "metadata": {
    "slideshow": {
     "slide_type": "fragment"
    }
   },
   "source": [
    "###  https://www.youtube.com/watch?v=nIjSTROF7PY  🚀🚀🚀"
   ]
  },
  {
   "cell_type": "markdown",
   "id": "9e91565d",
   "metadata": {
    "slideshow": {
     "slide_type": "fragment"
    }
   },
   "source": [
    "## Homework pour la prochaine séance:\n",
    "\n",
    "### 👉 réfléchir au plan pour coder le bot (ses actions)\n",
    "\n",
    "### 👉 se renseigner sur le module Selenium, l'installer sur sa machine\n",
    "\n",
    "### 👉 rédiger un programme qui utilise Selenium pour ouvrir un navigateur et faire une recherche Google"
   ]
  }
 ],
 "metadata": {
  "celltoolbar": "Slideshow",
  "kernelspec": {
   "display_name": "Python 3",
   "language": "python",
   "name": "python3"
  },
  "language_info": {
   "codemirror_mode": {
    "name": "ipython",
    "version": 3
   },
   "file_extension": ".py",
   "mimetype": "text/x-python",
   "name": "python",
   "nbconvert_exporter": "python",
   "pygments_lexer": "ipython3",
   "version": "3.8.6"
  },
  "toc": {
   "base_numbering": 1,
   "nav_menu": {},
   "number_sections": true,
   "sideBar": true,
   "skip_h1_title": false,
   "title_cell": "Table of Contents",
   "title_sidebar": "Contents",
   "toc_cell": false,
   "toc_position": {},
   "toc_section_display": true,
   "toc_window_display": false
  },
  "varInspector": {
   "cols": {
    "lenName": 16,
    "lenType": 16,
    "lenVar": 40
   },
   "kernels_config": {
    "python": {
     "delete_cmd_postfix": "",
     "delete_cmd_prefix": "del ",
     "library": "var_list.py",
     "varRefreshCmd": "print(var_dic_list())"
    },
    "r": {
     "delete_cmd_postfix": ") ",
     "delete_cmd_prefix": "rm(",
     "library": "var_list.r",
     "varRefreshCmd": "cat(var_dic_list()) "
    }
   },
   "types_to_exclude": [
    "module",
    "function",
    "builtin_function_or_method",
    "instance",
    "_Feature"
   ],
   "window_display": false
  }
 },
 "nbformat": 4,
 "nbformat_minor": 5
}
