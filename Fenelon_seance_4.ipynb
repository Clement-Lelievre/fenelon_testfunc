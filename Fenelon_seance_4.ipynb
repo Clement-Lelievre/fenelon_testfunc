{
 "cells": [
  {
   "cell_type": "markdown",
   "id": "29c69b5d",
   "metadata": {
    "slideshow": {
     "slide_type": "slide"
    }
   },
   "source": [
    "# BTS SN Fénelon : Python 🐍"
   ]
  },
  {
   "cell_type": "markdown",
   "id": "1d2cafe0",
   "metadata": {
    "slideshow": {
     "slide_type": "fragment"
    }
   },
   "source": [
    "Point orga:\n",
    "- séance supplémentaire le vendredi 2 juillet matin\n",
    "- séances restantes en mode projet"
   ]
  },
  {
   "cell_type": "markdown",
   "id": "88f040f3",
   "metadata": {
    "heading_collapsed": true,
    "slideshow": {
     "slide_type": "slide"
    }
   },
   "source": [
    "# Encore des exercices:"
   ]
  },
  {
   "cell_type": "markdown",
   "id": "1b877ca4",
   "metadata": {
    "hidden": true,
    "slideshow": {
     "slide_type": "fragment"
    }
   },
   "source": [
    "https://app.finxter.com/learn/computer/science/"
   ]
  },
  {
   "cell_type": "markdown",
   "id": "cf802a49",
   "metadata": {
    "heading_collapsed": true,
    "slideshow": {
     "slide_type": "slide"
    }
   },
   "source": [
    "# Selenium"
   ]
  },
  {
   "cell_type": "markdown",
   "id": "c54241e6",
   "metadata": {
    "hidden": true,
    "slideshow": {
     "slide_type": "fragment"
    }
   },
   "source": [
    "https://www.selenium.dev/"
   ]
  },
  {
   "cell_type": "markdown",
   "id": "b05572e7",
   "metadata": {
    "hidden": true,
    "slideshow": {
     "slide_type": "fragment"
    }
   },
   "source": [
    "## Comment utiliser Selenium pour ouvrir le browser et visiter une page web?"
   ]
  },
  {
   "cell_type": "code",
   "execution_count": null,
   "id": "954e58a6",
   "metadata": {
    "hidden": true,
    "slideshow": {
     "slide_type": "fragment"
    }
   },
   "outputs": [],
   "source": [
    "from selenium import webdriver\n",
    "from time import sleep\n",
    "\n",
    "url = 'https://www.selenium.dev'\n",
    "with webdriver.Firefox() as driver:\n",
    "    driver.get(url)\n",
    "    sleep(10)"
   ]
  },
  {
   "cell_type": "markdown",
   "id": "0d657baf",
   "metadata": {
    "slideshow": {
     "slide_type": "slide"
    }
   },
   "source": [
    "# Pour la séance 4"
   ]
  },
  {
   "cell_type": "markdown",
   "id": "620613ca",
   "metadata": {
    "slideshow": {
     "slide_type": "fragment"
    }
   },
   "source": [
    "## 🖱️ Choisir une idée de projet https://docs.google.com/spreadsheets/d/1DgiMvuo0JYZdcDCkwKsRFFIHMl_8T2jFyFofj66ZjIQ/edit?usp=sharing 🖱️"
   ]
  },
  {
   "cell_type": "markdown",
   "id": "6343ff5b",
   "metadata": {
    "slideshow": {
     "slide_type": "fragment"
    }
   },
   "source": [
    "Par défaut ce sera le bot joueur d'échecs"
   ]
  },
  {
   "cell_type": "markdown",
   "id": "f066e96e",
   "metadata": {
    "slideshow": {
     "slide_type": "fragment"
    }
   },
   "source": [
    "## 👉👉Réfléchir à la marche à suivre pour réussir le projet"
   ]
  },
  {
   "cell_type": "markdown",
   "id": "6f4c4077",
   "metadata": {
    "slideshow": {
     "slide_type": "subslide"
    }
   },
   "source": [
    "# 2 exercices"
   ]
  },
  {
   "cell_type": "markdown",
   "id": "391f16ae",
   "metadata": {
    "slideshow": {
     "slide_type": "fragment"
    }
   },
   "source": [
    "## 👉 https://www.codewars.com/kata/582cb0224e56e068d800003c"
   ]
  },
  {
   "cell_type": "markdown",
   "id": "0c00944e",
   "metadata": {
    "slideshow": {
     "slide_type": "fragment"
    }
   },
   "source": [
    "## Plus difficile: 👉 https://www.codewars.com/kata/550554fd08b86f84fe000a58"
   ]
  },
  {
   "cell_type": "markdown",
   "id": "90cfbab8",
   "metadata": {
    "slideshow": {
     "slide_type": "slide"
    }
   },
   "source": [
    "# Séance 4"
   ]
  },
  {
   "cell_type": "markdown",
   "id": "a8759863",
   "metadata": {
    "slideshow": {
     "slide_type": "fragment"
    }
   },
   "source": [
    "## 🤯 🧠Brain teasers pour s'échauffer (source: Hackathon Microsoft juillet 2020)"
   ]
  },
  {
   "cell_type": "code",
   "execution_count": 1,
   "id": "845e2565",
   "metadata": {
    "ExecuteTime": {
     "end_time": "2021-06-24T07:31:26.409990Z",
     "start_time": "2021-06-24T07:31:26.372945Z"
    }
   },
   "outputs": [
    {
     "data": {
      "text/plain": [
       "2"
      ]
     },
     "execution_count": 1,
     "metadata": {},
     "output_type": "execute_result"
    }
   ],
   "source": [
    "'hello'.count('l')"
   ]
  },
  {
   "cell_type": "code",
   "execution_count": 2,
   "id": "a17fa1a0",
   "metadata": {
    "ExecuteTime": {
     "end_time": "2021-06-24T07:35:19.387385Z",
     "start_time": "2021-06-24T07:35:19.374352Z"
    }
   },
   "outputs": [
    {
     "data": {
      "text/plain": [
       "'hellohellohello'"
      ]
     },
     "execution_count": 2,
     "metadata": {},
     "output_type": "execute_result"
    }
   ],
   "source": [
    "'hello'*3"
   ]
  },
  {
   "cell_type": "code",
   "execution_count": 7,
   "id": "2b9b11a0",
   "metadata": {
    "ExecuteTime": {
     "end_time": "2021-06-24T07:45:22.785219Z",
     "start_time": "2021-06-24T07:45:22.775156Z"
    },
    "slideshow": {
     "slide_type": "fragment"
    }
   },
   "outputs": [],
   "source": [
    "def enigme(s: str):\n",
    "    return len(s) == 2 and (\"hello\" * 100).count(s) == 99"
   ]
  },
  {
   "cell_type": "code",
   "execution_count": 9,
   "id": "6a0ac780",
   "metadata": {
    "ExecuteTime": {
     "end_time": "2021-06-24T07:45:36.870778Z",
     "start_time": "2021-06-24T07:45:36.853939Z"
    }
   },
   "outputs": [
    {
     "data": {
      "text/plain": [
       "True"
      ]
     },
     "execution_count": 9,
     "metadata": {},
     "output_type": "execute_result"
    }
   ],
   "source": [
    "enigme('oh')"
   ]
  },
  {
   "cell_type": "markdown",
   "id": "fdf4c45b",
   "metadata": {
    "slideshow": {
     "slide_type": "fragment"
    }
   },
   "source": [
    "Quel(s) mot(s) permet de retourner True ?"
   ]
  },
  {
   "cell_type": "code",
   "execution_count": 6,
   "id": "f70d5ead",
   "metadata": {
    "ExecuteTime": {
     "end_time": "2021-06-23T08:28:36.954655Z",
     "start_time": "2021-06-23T08:28:36.946813Z"
    },
    "slideshow": {
     "slide_type": "fragment"
    }
   },
   "outputs": [],
   "source": [
    "from typing import List, Set # this line just does some setup for later"
   ]
  },
  {
   "cell_type": "code",
   "execution_count": 12,
   "id": "9c8b1eab",
   "metadata": {
    "ExecuteTime": {
     "end_time": "2021-06-23T09:08:52.901553Z",
     "start_time": "2021-06-23T09:08:52.894368Z"
    },
    "slideshow": {
     "slide_type": "fragment"
    }
   },
   "outputs": [],
   "source": [
    "def sat(li: List[int]):\n",
    "    return li[li[0]] != li[li[1]] and li[li[li[0]]] == li[li[li[1]]]"
   ]
  },
  {
   "cell_type": "markdown",
   "id": "3f1815e8",
   "metadata": {
    "slideshow": {
     "slide_type": "fragment"
    }
   },
   "source": [
    "Quelle(s) liste(s) permet de renvoyer True?"
   ]
  },
  {
   "cell_type": "markdown",
   "id": "047be204",
   "metadata": {
    "ExecuteTime": {
     "end_time": "2021-06-23T09:10:02.517536Z",
     "start_time": "2021-06-23T09:10:02.504392Z"
    },
    "slideshow": {
     "slide_type": "fragment"
    }
   },
   "source": [
    "```\n",
    "[?,?,?,? ...]\n",
    "```\n",
    "\n",
    "<details>\n",
    "    <summary>🆘 Possible solution</summary>\n",
    "    <p>\n",
    "[1,3,2,5,4,5]\n",
    "</p>\n",
    "</details>\n",
    "\n",
    "\n",
    "\n"
   ]
  },
  {
   "cell_type": "code",
   "execution_count": 15,
   "id": "2a277e96",
   "metadata": {
    "ExecuteTime": {
     "end_time": "2021-06-23T09:23:12.477993Z",
     "start_time": "2021-06-23T09:23:12.468984Z"
    },
    "slideshow": {
     "slide_type": "fragment"
    }
   },
   "outputs": [],
   "source": [
    "def sat(li: List[int]):\n",
    "    return all([li[i] != li[i + 1] for i in range(10)]) and len(set(li)) == 3"
   ]
  },
  {
   "cell_type": "markdown",
   "id": "5c35e377",
   "metadata": {
    "ExecuteTime": {
     "end_time": "2021-06-23T09:24:00.970087Z",
     "start_time": "2021-06-23T09:24:00.957170Z"
    },
    "slideshow": {
     "slide_type": "fragment"
    }
   },
   "source": [
    "- all(a,b,c) renvoie True ssi a,b et c sont True\n",
    "- le set d'une liste n'en contient que les valeurs uniques "
   ]
  },
  {
   "cell_type": "markdown",
   "id": "531bd107",
   "metadata": {
    "slideshow": {
     "slide_type": "fragment"
    }
   },
   "source": [
    "```\n",
    "[?,?,?,? ...]\n",
    "```\n",
    "\n",
    "<details>\n",
    "    <summary>🆘 Possible solution</summary>\n",
    "    <p>\n",
    "[1,2,3,1,2,3,1,2,3,1,2,3]\n",
    "</p>\n",
    "</details>\n",
    "\n",
    "\n",
    "\n"
   ]
  },
  {
   "cell_type": "code",
   "execution_count": 53,
   "id": "e2af683b",
   "metadata": {
    "ExecuteTime": {
     "end_time": "2021-06-23T10:04:54.862133Z",
     "start_time": "2021-06-23T10:04:54.855045Z"
    },
    "slideshow": {
     "slide_type": "fragment"
    }
   },
   "outputs": [],
   "source": [
    "def sat(s: str):\n",
    "    return s[::2] in s and len(set(s)) == 5"
   ]
  },
  {
   "cell_type": "markdown",
   "id": "97e0247f",
   "metadata": {
    "slideshow": {
     "slide_type": "fragment"
    }
   },
   "source": [
    "<details>\n",
    "    <summary>🆘 Indice</summary>\n",
    "    <p>\n",
    "le [::2] va nous servir à éliminer les 4 lettres intruses...\n",
    "</p>\n",
    "</details>\n",
    "\n",
    "\n",
    "\n"
   ]
  },
  {
   "cell_type": "markdown",
   "id": "b629e79c",
   "metadata": {
    "ExecuteTime": {
     "end_time": "2021-06-23T10:36:57.002106Z",
     "start_time": "2021-06-23T10:36:56.990497Z"
    },
    "slideshow": {
     "slide_type": "fragment"
    }
   },
   "source": [
    "```\n",
    "'xxxxxxx'?\n",
    "```\n",
    "\n",
    "<details>\n",
    "    <summary>🆘 Possible solution</summary>\n",
    "    <p>\n",
    "'aaaaaaaaabacadaea'\n",
    "</p>\n",
    "</details>\n",
    "\n",
    "\n",
    "\n"
   ]
  },
  {
   "cell_type": "code",
   "execution_count": 69,
   "id": "b398cea0",
   "metadata": {
    "ExecuteTime": {
     "end_time": "2021-06-23T10:35:40.314254Z",
     "start_time": "2021-06-23T10:35:40.302730Z"
    },
    "collapsed": true,
    "slideshow": {
     "slide_type": "fragment"
    }
   },
   "outputs": [
    {
     "name": "stdout",
     "output_type": "stream",
     "text": [
      "9\n"
     ]
    }
   ],
   "source": [
    "av = 0\n",
    "while _:\n",
    "    if 4 + int(av/2)+1 <= av:\n",
    "        print(av)\n",
    "        break\n",
    "    av += 1\n",
    "    "
   ]
  },
  {
   "cell_type": "markdown",
   "id": "723b7e2b",
   "metadata": {
    "slideshow": {
     "slide_type": "fragment"
    }
   },
   "source": [
    "Description: Find an integer whose perfect square begins with 123456789 in its decimal representation."
   ]
  },
  {
   "cell_type": "code",
   "execution_count": 99,
   "id": "05532ad8",
   "metadata": {
    "ExecuteTime": {
     "end_time": "2021-06-23T14:15:55.102169Z",
     "start_time": "2021-06-23T14:15:55.095425Z"
    },
    "slideshow": {
     "slide_type": "fragment"
    }
   },
   "outputs": [],
   "source": [
    "def sat(n: int):\n",
    "    assert isinstance(n, int)\n",
    "    return str(n**2).startswith(\"123456789\")\n"
   ]
  },
  {
   "cell_type": "markdown",
   "id": "bd39da81",
   "metadata": {
    "slideshow": {
     "slide_type": "fragment"
    }
   },
   "source": [
    "Méthode lente (algorithme glouton)"
   ]
  },
  {
   "cell_type": "code",
   "execution_count": 114,
   "id": "3b754b90",
   "metadata": {
    "ExecuteTime": {
     "end_time": "2021-06-23T14:28:46.575701Z",
     "start_time": "2021-06-23T14:28:46.565126Z"
    },
    "slideshow": {
     "slide_type": "fragment"
    }
   },
   "outputs": [
    {
     "data": {
      "text/plain": [
       "11111.111060555555"
      ]
     },
     "execution_count": 114,
     "metadata": {},
     "output_type": "execute_result"
    }
   ],
   "source": [
    "from math import sqrt\n",
    "sqrt(123456789) # so the solution is not square root of 123456789   "
   ]
  },
  {
   "cell_type": "code",
   "execution_count": 111,
   "id": "8530952f",
   "metadata": {
    "ExecuteTime": {
     "end_time": "2021-06-23T14:24:55.877397Z",
     "start_time": "2021-06-23T14:22:35.241483Z"
    },
    "slideshow": {
     "slide_type": "fragment"
    }
   },
   "outputs": [
    {
     "name": "stdout",
     "output_type": "stream",
     "text": [
      "111111111\n"
     ]
    }
   ],
   "source": [
    "i=0\n",
    "while True:\n",
    "    if str(i**2).startswith(\"123456789\"):\n",
    "        print(i)\n",
    "        break\n",
    "    i+=1 "
   ]
  },
  {
   "cell_type": "markdown",
   "id": "733a13fe",
   "metadata": {
    "slideshow": {
     "slide_type": "fragment"
    }
   },
   "source": [
    "## Plus difficile 👇"
   ]
  },
  {
   "cell_type": "code",
   "execution_count": 45,
   "id": "2dbc75ab",
   "metadata": {
    "ExecuteTime": {
     "end_time": "2021-06-23T09:48:51.867183Z",
     "start_time": "2021-06-23T09:48:51.859923Z"
    },
    "slideshow": {
     "slide_type": "fragment"
    }
   },
   "outputs": [],
   "source": [
    "def sat(s: str):\n",
    "    return sorted(s) == sorted('Permute me true') and s == s[::-1]"
   ]
  },
  {
   "cell_type": "code",
   "execution_count": 43,
   "id": "ad6dc10b",
   "metadata": {
    "ExecuteTime": {
     "end_time": "2021-06-23T09:47:53.104054Z",
     "start_time": "2021-06-23T09:47:53.093444Z"
    }
   },
   "outputs": [
    {
     "data": {
      "text/plain": [
       "[' ', ' ', 'P', 'e', 'e', 'e', 'e', 'm', 'm', 'r', 'r', 't', 't', 'u', 'u']"
      ]
     },
     "execution_count": 43,
     "metadata": {},
     "output_type": "execute_result"
    }
   ],
   "source": [
    "a=sorted('Permute me true')\n",
    "a"
   ]
  },
  {
   "cell_type": "code",
   "execution_count": 34,
   "id": "87189355",
   "metadata": {
    "ExecuteTime": {
     "end_time": "2021-06-23T09:39:47.188797Z",
     "start_time": "2021-06-23T09:39:47.181174Z"
    }
   },
   "outputs": [],
   "source": [
    "def find_pivot(word):\n",
    "    for letter in list(word):\n",
    "        if word.count(letter) == 1:\n",
    "            return letter\n",
    "pivot=find_pivot(a)"
   ]
  },
  {
   "cell_type": "code",
   "execution_count": 48,
   "id": "3664c24e",
   "metadata": {
    "ExecuteTime": {
     "end_time": "2021-06-23T09:49:28.323096Z",
     "start_time": "2021-06-23T09:49:28.305277Z"
    }
   },
   "outputs": [
    {
     "data": {
      "text/plain": [
       "['m', 't', 'u', ' ', 'r', 'e', 'e', 'P', 'e', 'e', 'r', ' ', 'u', 't', 'm']"
      ]
     },
     "execution_count": 48,
     "metadata": {},
     "output_type": "execute_result"
    }
   ],
   "source": [
    "def make_word(l):\n",
    "    answer,pivot = [], 'P'\n",
    "    for char in set(l):\n",
    "        if char != pivot:\n",
    "            for i in range(l.count(char)//2):\n",
    "                answer.append(char)\n",
    "    b=list(\"\".join(answer)[::-1])\n",
    "    answer.append(pivot)\n",
    "    answer += b\n",
    "    return answer\n",
    "\n",
    "make_word(sorted('Permute me true'))"
   ]
  },
  {
   "cell_type": "code",
   "execution_count": 46,
   "id": "424f5981",
   "metadata": {
    "ExecuteTime": {
     "end_time": "2021-06-23T09:49:10.212910Z",
     "start_time": "2021-06-23T09:49:10.198458Z"
    },
    "collapsed": true
   },
   "outputs": [
    {
     "data": {
      "text/plain": [
       "True"
      ]
     },
     "execution_count": 46,
     "metadata": {},
     "output_type": "execute_result"
    }
   ],
   "source": [
    "sat(\"\".join(['m', 't', 'u', ' ', 'r', 'e', 'e', 'P', 'e', 'e', 'r', ' ', 'u', 't', 'm']))"
   ]
  },
  {
   "cell_type": "markdown",
   "id": "d2c08613",
   "metadata": {
    "slideshow": {
     "slide_type": "fragment"
    }
   },
   "source": [
    "Derniere enigme"
   ]
  },
  {
   "cell_type": "markdown",
   "id": "207ecd09",
   "metadata": {
    "slideshow": {
     "slide_type": "fragment"
    }
   },
   "source": [
    "Description: Find a list of 1000 distinct strings which each have more 'a's than 'b's and at least one 'b'."
   ]
  },
  {
   "cell_type": "code",
   "execution_count": 95,
   "id": "5ca14a5f",
   "metadata": {
    "ExecuteTime": {
     "end_time": "2021-06-23T14:08:35.586159Z",
     "start_time": "2021-06-23T14:08:35.575888Z"
    },
    "slideshow": {
     "slide_type": "fragment"
    }
   },
   "outputs": [],
   "source": [
    "def sat(s: List[str]):\n",
    "    assert type(s) is list and all(type(a) is str for a in s), 's must be of type List[str]'\n",
    "    return len(set(s)) == 1000 and all((x.count(\"a\") > x.count(\"b\")) and ('b' in x) for x in s)\n"
   ]
  },
  {
   "cell_type": "markdown",
   "id": "73dd338c",
   "metadata": {
    "slideshow": {
     "slide_type": "fragment"
    }
   },
   "source": [
    "## un projet Python super stylé 👀"
   ]
  },
  {
   "cell_type": "markdown",
   "id": "2b34881c",
   "metadata": {
    "slideshow": {
     "slide_type": "fragment"
    }
   },
   "source": [
    "https://youtu.be/xHxWsGq2V9c?t=140"
   ]
  },
  {
   "cell_type": "markdown",
   "id": "98296fcc",
   "metadata": {
    "slideshow": {
     "slide_type": "fragment"
    }
   },
   "source": [
    "## Les projets"
   ]
  },
  {
   "cell_type": "markdown",
   "id": "846c21ac",
   "metadata": {
    "slideshow": {
     "slide_type": "fragment"
    }
   },
   "source": [
    "🦾 Jusqu'à la fin, vous allez travailler en mode projet et vous répartir les tâches 🦾"
   ]
  },
  {
   "cell_type": "markdown",
   "id": "90a669c5",
   "metadata": {
    "slideshow": {
     "slide_type": "fragment"
    }
   },
   "source": [
    "### https://docs.google.com/spreadsheets/d/1DgiMvuo0JYZdcDCkwKsRFFIHMl_8T2jFyFofj66ZjIQ/edit?usp=sharing&urp=gmail_link"
   ]
  }
 ],
 "metadata": {
  "celltoolbar": "Diaporama",
  "kernelspec": {
   "display_name": "Python 3",
   "language": "python",
   "name": "python3"
  },
  "language_info": {
   "codemirror_mode": {
    "name": "ipython",
    "version": 3
   },
   "file_extension": ".py",
   "mimetype": "text/x-python",
   "name": "python",
   "nbconvert_exporter": "python",
   "pygments_lexer": "ipython3",
   "version": "3.8.6"
  },
  "toc": {
   "base_numbering": 1,
   "nav_menu": {},
   "number_sections": true,
   "sideBar": true,
   "skip_h1_title": false,
   "title_cell": "Table of Contents",
   "title_sidebar": "Contents",
   "toc_cell": false,
   "toc_position": {},
   "toc_section_display": true,
   "toc_window_display": false
  },
  "varInspector": {
   "cols": {
    "lenName": 16,
    "lenType": 16,
    "lenVar": 40
   },
   "kernels_config": {
    "python": {
     "delete_cmd_postfix": "",
     "delete_cmd_prefix": "del ",
     "library": "var_list.py",
     "varRefreshCmd": "print(var_dic_list())"
    },
    "r": {
     "delete_cmd_postfix": ") ",
     "delete_cmd_prefix": "rm(",
     "library": "var_list.r",
     "varRefreshCmd": "cat(var_dic_list()) "
    }
   },
   "position": {
    "height": "330.85px",
    "left": "1158.6px",
    "right": "20px",
    "top": "120px",
    "width": "357.4px"
   },
   "types_to_exclude": [
    "module",
    "function",
    "builtin_function_or_method",
    "instance",
    "_Feature"
   ],
   "window_display": false
  }
 },
 "nbformat": 4,
 "nbformat_minor": 5
}
